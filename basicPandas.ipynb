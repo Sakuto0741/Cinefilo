{
 "cells": [
  {
   "cell_type": "code",
   "execution_count": 1,
   "id": "35290268",
   "metadata": {},
   "outputs": [],
   "source": [
    "import pandas as pd\n",
    "import numpy as np"
   ]
  },
  {
   "cell_type": "markdown",
   "id": "d6e1683b",
   "metadata": {},
   "source": [
    "# Series"
   ]
  },
  {
   "cell_type": "markdown",
   "id": "7cffac20",
   "metadata": {},
   "source": [
    "## Creando Series"
   ]
  },
  {
   "cell_type": "code",
   "execution_count": 10,
   "id": "add8780e",
   "metadata": {},
   "outputs": [
    {
     "name": "stdout",
     "output_type": "stream",
     "text": [
      "Lista original: [1, 2, 3, 4, 5]\n",
      "Serie de Pandas: 0    1\n",
      "1    2\n",
      "2    3\n",
      "3    4\n",
      "4    5\n",
      "dtype: int64\n",
      "Tipo de dato de la Serie: <class 'pandas.core.series.Series'>\n"
     ]
    }
   ],
   "source": [
    "#1. Creacion de series a partir de una lista\n",
    "#Lista de valores\n",
    "lista = [1, 2, 3, 4, 5]\n",
    "print(\"Lista original:\", lista)\n",
    "\n",
    "#Conversion de lista a Serie de Pandas\n",
    "serie = pd.Series(lista)\n",
    "print(\"Serie de Pandas:\", serie)\n",
    "print(\"Tipo de dato de la Serie:\", type(serie))"
   ]
  },
  {
   "cell_type": "code",
   "execution_count": 11,
   "id": "737e1897",
   "metadata": {},
   "outputs": [
    {
     "name": "stdout",
     "output_type": "stream",
     "text": [
      "Serie con indices personalizados: a    1\n",
      "b    2\n",
      "c    3\n",
      "d    4\n",
      "e    5\n",
      "dtype: int64\n"
     ]
    }
   ],
   "source": [
    "#2. Creacion de series con indices personalizados\n",
    "index_personalizado = ['a', 'b', 'c', 'd', 'e']\n",
    "serie_con_indices = pd.Series(lista, index=index_personalizado)\n",
    "print(\"Serie con indices personalizados:\", serie_con_indices)"
   ]
  },
  {
   "cell_type": "markdown",
   "id": "fb7718f8",
   "metadata": {},
   "source": [
    "## Acceso a datos en series"
   ]
  },
  {
   "cell_type": "code",
   "execution_count": 12,
   "id": "4a9cc694",
   "metadata": {},
   "outputs": [
    {
     "name": "stdout",
     "output_type": "stream",
     "text": [
      "Acceso por posicion (2): 3\n",
      "Acceso por rango (1:4):\n",
      " 1    2\n",
      "2    3\n",
      "3    4\n",
      "dtype: int64\n",
      "Acceso por indice 'c': 3\n",
      "Acceso por indices ['a', 'c', 'e']:\n",
      " a    1\n",
      "c    3\n",
      "e    5\n",
      "dtype: int64\n"
     ]
    }
   ],
   "source": [
    "#Acceso por posicion\n",
    "#Por elemento\n",
    "print(\"Acceso por posicion (2):\", serie[2])\n",
    "#Por rango\n",
    "print(\"Acceso por rango (1:4):\\n\", serie[1:4])\n",
    "\n",
    "#Acceso por indice\n",
    "#Un elemento\n",
    "print(\"Acceso por indice 'c':\", serie_con_indices['c'])\n",
    "#Multiples indices\n",
    "print(\"Acceso por indices ['a', 'c', 'e']:\\n\", serie_con_indices[['a', 'c', 'e']])"
   ]
  },
  {
   "cell_type": "markdown",
   "id": "c8e7718e",
   "metadata": {},
   "source": [
    "# DataFrame"
   ]
  },
  {
   "cell_type": "code",
   "execution_count": 14,
   "id": "39a15823",
   "metadata": {},
   "outputs": [
    {
     "name": "stdout",
     "output_type": "stream",
     "text": [
      "DataFrame creado:\n",
      "   A  B  C\n",
      "0  1  4  7\n",
      "1  2  5  8\n",
      "2  3  6  9\n"
     ]
    }
   ],
   "source": [
    "#Creando un DataFrame\n",
    "data = {\n",
    "    'A': [1, 2, 3],\n",
    "    'B': [4, 5, 6],\n",
    "    'C': [7, 8, 9]\n",
    "}\n",
    "\n",
    "df = pd.DataFrame(data)\n",
    "print(\"DataFrame creado:\")\n",
    "print(df)"
   ]
  },
  {
   "cell_type": "code",
   "execution_count": 15,
   "id": "42929445",
   "metadata": {},
   "outputs": [
    {
     "name": "stdout",
     "output_type": "stream",
     "text": [
      "Selecion de la columna 'A':\n",
      "0    1\n",
      "1    2\n",
      "2    3\n",
      "Name: A, dtype: int64\n",
      "Seleccion de la fila 1:\n",
      "A    2\n",
      "B    5\n",
      "C    8\n",
      "Name: 1, dtype: int64\n"
     ]
    }
   ],
   "source": [
    "#Seleccion de columnas\n",
    "print(\"Selecion de la columna 'A':\")\n",
    "print(df['A'])\n",
    "\n",
    "#Seleccion de filas por posicion\n",
    "print(\"Seleccion de la fila 1:\")\n",
    "print(df.iloc[1])"
   ]
  },
  {
   "cell_type": "code",
   "execution_count": 20,
   "metadata": {},
   "outputs": [
    {
     "name": "stdout",
     "output_type": "stream",
     "text": [
      "Seleccion condicional (columna 'B' > 4):\n",
      "    A  B  C   D\n",
      "1  20  5  8  11\n",
      "2  30  6  9  12\n",
      "Seleccion de filas (indices 1 y 2):\n",
      "    A  B  C   D\n",
      "1  20  5  8  11\n",
      "2  30  6  9  12\n"
     ]
    }
   ],
   "source": [
    "#Seleccion condicional\n",
    "print(\"Seleccion condicional (columna 'B' > 4):\")\n",
    "print(df[df['B'] > 4])\n",
    "\n",
    "print(\"Seleccion de filas (indices 1 y 2):\")\n",
    "print(df.iloc[1:3])"
   ]
  },
  {
   "cell_type": "code",
   "execution_count": 17,
   "id": "44821189",
   "metadata": {},
   "outputs": [
    {
     "name": "stdout",
     "output_type": "stream",
     "text": [
      "DataFrame tras añadir columna 'D':\n",
      "   A  B  C   D\n",
      "0  1  4  7  10\n",
      "1  2  5  8  11\n",
      "2  3  6  9  12\n",
      "DataFrame tras modificar columna 'A':\n",
      "    A  B  C   D\n",
      "0  10  4  7  10\n",
      "1  20  5  8  11\n",
      "2  30  6  9  12\n"
     ]
    }
   ],
   "source": [
    "#Añadir/modificar columnas\n",
    "#Añadiendo una nueva columna 'D'\n",
    "df['D'] = [10, 11, 12]\n",
    "print(\"DataFrame tras añadir columna 'D':\")\n",
    "print(df)\n",
    "\n",
    "#Modificando la columna 'A'\n",
    "df['A'] = df['A'] * 10\n",
    "print(\"DataFrame tras modificar columna 'A':\")\n",
    "print(df)"
   ]
  },
  {
   "cell_type": "code",
   "execution_count": 21,
   "metadata": {},
   "outputs": [
    {
     "name": "stdout",
     "output_type": "stream",
     "text": [
      "DataFrame tras eliminar columna 'C':\n",
      "    A  B   D\n",
      "0  10  4  10\n",
      "1  20  5  11\n",
      "2  30  6  12\n",
      "DataFrame tras eliminar fila con indice 0:\n",
      "    A  B   D\n",
      "1  20  5  11\n",
      "2  30  6  12\n"
     ]
    }
   ],
   "source": [
    "#Eliminar\n",
    "#Eliminando la columna 'C'\n",
    "df.drop('C', axis=1, inplace=True)\n",
    "print(\"DataFrame tras eliminar columna 'C':\")\n",
    "print(df)\n",
    "\n",
    "#Eliminando la fila con indice 0\n",
    "df.drop(0, axis=0 , inplace=True)\n",
    "print(\"DataFrame tras eliminar fila con indice 0:\")\n",
    "print(df)"
   ]
  }
 ],
 "metadata": {
  "kernelspec": {
   "display_name": ".venv",
   "language": "python",
   "name": "python3"
  },
  "language_info": {
   "codemirror_mode": {
    "name": "ipython",
    "version": 3
   },
   "file_extension": ".py",
   "mimetype": "text/x-python",
   "name": "python",
   "nbconvert_exporter": "python",
   "pygments_lexer": "ipython3",
   "version": "3.12.0"
  }
 },
 "nbformat": 4,
 "nbformat_minor": 5
}
