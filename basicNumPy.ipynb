{
 "cells": [
  {
   "cell_type": "code",
   "execution_count": 3,
   "id": "4f845f38",
   "metadata": {},
   "outputs": [
    {
     "name": "stdout",
     "output_type": "stream",
     "text": [
      "Version de NumPy: 2.3.0\n"
     ]
    }
   ],
   "source": [
    "import numpy as np\n",
    "\n",
    "print(f'Version de NumPy: {np.__version__}')"
   ]
  },
  {
   "cell_type": "code",
   "execution_count": 5,
   "id": "8ba58414",
   "metadata": {},
   "outputs": [
    {
     "name": "stdout",
     "output_type": "stream",
     "text": [
      "Arreglo 1D: [1 2 3 4 5]\n",
      "Arreglo 2D: [[1 2 3]\n",
      " [4 5 6]]\n"
     ]
    }
   ],
   "source": [
    "#Crear un arreglo en 1D desde lista\n",
    "lista = [1, 2, 3, 4, 5]\n",
    "array_1d = np.array(lista)\n",
    "print(f'Arreglo 1D: {array_1d}')\n",
    "\n",
    "#Crear un arreglo en 2D desde lista de listas\n",
    "lista_2d = [[1, 2, 3], [4, 5, 6]]\n",
    "array_2d = np.array(lista_2d)\n",
    "print(f'Arreglo 2D: {array_2d}')"
   ]
  },
  {
   "cell_type": "code",
   "execution_count": null,
   "id": "1c5855b5",
   "metadata": {},
   "outputs": [
    {
     "name": "stdout",
     "output_type": "stream",
     "text": [
      "[[0. 0. 0. 0.]\n",
      " [0. 0. 0. 0.]\n",
      " [0. 0. 0. 0.]]\n",
      "[[1. 1. 1.]\n",
      " [1. 1. 1.]]\n",
      "[[7 7]\n",
      " [7 7]]\n",
      "[[1. 0. 0.]\n",
      " [0. 1. 0.]\n",
      " [0. 0. 1.]]\n",
      "[0 2 4 6 8]\n",
      "[0.   0.25 0.5  0.75 1.  ]\n"
     ]
    }
   ],
   "source": [
    "#array de ceros\n",
    "zero = np.zeros((3, 4)) #[[0, 0, 0, 0], [0, 0, 0, 0], [0, 0, 0, 0]]\n",
    "print(zero)\n",
    "\n",
    "#array de unos\n",
    "ones = np.ones((2, 3)) #[[1, 1, 1], [1, 1, 1]]\n",
    "print(ones)\n",
    "\n",
    "#array con valor constante\n",
    "full = np.full((2,2), 7) #[[7, 7], [7, 7]]\n",
    "print(full)\n",
    "\n",
    "#matriz identidad\n",
    "identity = np.eye(3) # [[1, 0, 0], [0, 1, 0], [0, 0, 1]]\n",
    "print(identity)\n",
    "\n",
    "#secuencia con paso especifico\n",
    "arange = np.arange(0, 10, 2) # [0, 2, 4, 6, 8]\n",
    "print(arange)\n",
    "\n",
    "#secuencia con números específico de elementos\n",
    "linspace = np.linspace(0, 1, 5) # [0. , 0.25, 0.5 , 0.75, 1. ]\n",
    "print(linspace)"
   ]
  },
  {
   "cell_type": "code",
   "execution_count": 8,
   "id": "20427c52",
   "metadata": {},
   "outputs": [
    {
     "name": "stdout",
     "output_type": "stream",
     "text": [
      "[[0.85424108 0.76627404 0.3390346 ]\n",
      " [0.80619609 0.16536765 0.285852  ]]\n",
      "[[0 6 7]\n",
      " [4 3 6]]\n",
      "[[ 0.61030838 -1.52484744  0.46039654]\n",
      " [-0.97131085 -1.29847958  0.98663283]]\n"
     ]
    }
   ],
   "source": [
    "#Matriz aleatoria\n",
    "random = np.random.random((2, 3))\n",
    "print(random)\n",
    "\n",
    "#Matriz aleatoria con números enteros\n",
    "random_int = np.random.randint(0, 10, (2, 3))\n",
    "print(random_int)\n",
    "\n",
    "#Matriz distribución normal\n",
    "normal_dist = np.random.normal(0, 1, (2, 3))\n",
    "print(normal_dist)"
   ]
  },
  {
   "cell_type": "code",
   "execution_count": 9,
   "id": "00ae9e09",
   "metadata": {},
   "outputs": [
    {
     "name": "stdout",
     "output_type": "stream",
     "text": [
      "Arreglo aleatorio:\n",
      "[[5 7 2]\n",
      " [6 4 5]\n",
      " [6 5 5]]\n",
      "Dimensión: 2\n",
      "Forma: (3, 3)\n",
      "Tamaño: 9\n",
      "Tipo de dato: int32\n",
      "capa 0: [5 7 2]\n",
      "capa 1: [6 4 5]\n",
      "capa 2: [6 5 5]\n"
     ]
    }
   ],
   "source": [
    "#Arreglo aleatorio\n",
    "array = np.random.randint(0, 10, (3, 3))\n",
    "print(f\"Arreglo aleatorio:\\n{array}\")\n",
    "\n",
    "#Propiedades del arreglo\n",
    "print(f\"Dimensión: {array.ndim}\")\n",
    "print(f\"Forma: {array.shape}\")\n",
    "print(f\"Tamaño: {array.size}\")\n",
    "print(f\"Tipo de dato: {array.dtype}\")\n",
    "\n",
    "#Arreglo por capas\n",
    "print(f\"capa 0: {array[0]}\")\n",
    "print(f\"capa 1: {array[1]}\")\n",
    "print(f\"capa 2: {array[2]}\")"
   ]
  },
  {
   "cell_type": "code",
   "execution_count": 10,
   "id": "0c99a452",
   "metadata": {},
   "outputs": [
    {
     "name": "stdout",
     "output_type": "stream",
     "text": [
      "Arreglo 1D:\n",
      "[ 0  1  2  3  4  5  6  7  8  9 10 11]\n",
      "Arreglo 2D reshape:\n",
      "[[ 0  1  2  3]\n",
      " [ 4  5  6  7]\n",
      " [ 8  9 10 11]]\n",
      "Arreglo transpuesto:\n",
      "[[ 0  4  8]\n",
      " [ 1  5  9]\n",
      " [ 2  6 10]\n",
      " [ 3  7 11]]\n"
     ]
    }
   ],
   "source": [
    "#Arreglo en 1D\n",
    "array1 =  np.arange(12)\n",
    "print(f\"Arreglo 1D:\\n{array1}\")\n",
    "\n",
    "#Reshape a 2d\n",
    "array_2d_reshape = array1.reshape((3, 4))\n",
    "print(f\"Arreglo 2D reshape:\\n{array_2d_reshape}\")\n",
    "\n",
    "#Transponer el arreglo\n",
    "transposed = array_2d_reshape.T\n",
    "print(f\"Arreglo transpuesto:\\n{transposed}\")"
   ]
  }
 ],
 "metadata": {
  "kernelspec": {
   "display_name": ".venv",
   "language": "python",
   "name": "python3"
  },
  "language_info": {
   "codemirror_mode": {
    "name": "ipython",
    "version": 3
   },
   "file_extension": ".py",
   "mimetype": "text/x-python",
   "name": "python",
   "nbconvert_exporter": "python",
   "pygments_lexer": "ipython3",
   "version": "3.12.0"
  }
 },
 "nbformat": 4,
 "nbformat_minor": 5
}
