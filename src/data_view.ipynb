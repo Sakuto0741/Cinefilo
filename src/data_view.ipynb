{
 "cells": [
  {
   "cell_type": "code",
   "execution_count": 1,
   "id": "6936479f",
   "metadata": {},
   "outputs": [],
   "source": [
    "import pandas as pd\n",
    "import numpy as np"
   ]
  },
  {
   "cell_type": "markdown",
   "id": "abc69f5f",
   "metadata": {},
   "source": [
    "## Información del dataset"
   ]
  },
  {
   "cell_type": "markdown",
   "id": "9c4da84f",
   "metadata": {},
   "source": [
    "### Información columnas"
   ]
  },
  {
   "cell_type": "markdown",
   "id": "30e8031a",
   "metadata": {},
   "source": [
    "#### Columnas"
   ]
  },
  {
   "cell_type": "code",
   "execution_count": 8,
   "id": "cd6b9ad8",
   "metadata": {},
   "outputs": [
    {
     "name": "stdout",
     "output_type": "stream",
     "text": [
      "Index(['color', 'director_name', 'num_critic_for_reviews', 'duration',\n",
      "       'director_facebook_likes', 'actor_3_facebook_likes', 'actor_2_name',\n",
      "       'actor_1_facebook_likes', 'gross', 'genres', 'actor_1_name',\n",
      "       'movie_title', 'num_voted_users', 'cast_total_facebook_likes',\n",
      "       'actor_3_name', 'facenumber_in_poster', 'plot_keywords',\n",
      "       'movie_imdb_link', 'num_user_for_reviews', 'language', 'country',\n",
      "       'content_rating', 'budget', 'title_year', 'actor_2_facebook_likes',\n",
      "       'imdb_score', 'aspect_ratio', 'movie_facebook_likes'],\n",
      "      dtype='object')\n"
     ]
    }
   ],
   "source": [
    "#Cargar el dataset\n",
    "df = pd.read_csv('../data/archive/movie_metadata.csv')\n",
    "\n",
    "#Mostrar columnas del dataset\n",
    "print(df.columns)\n"
   ]
  },
  {
   "cell_type": "markdown",
   "id": "83fd6f25",
   "metadata": {},
   "source": [
    "#### Tipo de dato por columna"
   ]
  },
  {
   "cell_type": "code",
   "execution_count": 9,
   "id": "a96e6a97",
   "metadata": {},
   "outputs": [
    {
     "name": "stdout",
     "output_type": "stream",
     "text": [
      "<class 'pandas.core.frame.DataFrame'>\n",
      "RangeIndex: 5043 entries, 0 to 5042\n",
      "Data columns (total 28 columns):\n",
      " #   Column                     Non-Null Count  Dtype  \n",
      "---  ------                     --------------  -----  \n",
      " 0   color                      5024 non-null   object \n",
      " 1   director_name              4939 non-null   object \n",
      " 2   num_critic_for_reviews     4993 non-null   float64\n",
      " 3   duration                   5028 non-null   float64\n",
      " 4   director_facebook_likes    4939 non-null   float64\n",
      " 5   actor_3_facebook_likes     5020 non-null   float64\n",
      " 6   actor_2_name               5030 non-null   object \n",
      " 7   actor_1_facebook_likes     5036 non-null   float64\n",
      " 8   gross                      4159 non-null   float64\n",
      " 9   genres                     5043 non-null   object \n",
      " 10  actor_1_name               5036 non-null   object \n",
      " 11  movie_title                5043 non-null   object \n",
      " 12  num_voted_users            5043 non-null   int64  \n",
      " 13  cast_total_facebook_likes  5043 non-null   int64  \n",
      " 14  actor_3_name               5020 non-null   object \n",
      " 15  facenumber_in_poster       5030 non-null   float64\n",
      " 16  plot_keywords              4890 non-null   object \n",
      " 17  movie_imdb_link            5043 non-null   object \n",
      " 18  num_user_for_reviews       5022 non-null   float64\n",
      " 19  language                   5029 non-null   object \n",
      " 20  country                    5038 non-null   object \n",
      " 21  content_rating             4740 non-null   object \n",
      " 22  budget                     4551 non-null   float64\n",
      " 23  title_year                 4935 non-null   float64\n",
      " 24  actor_2_facebook_likes     5030 non-null   float64\n",
      " 25  imdb_score                 5043 non-null   float64\n",
      " 26  aspect_ratio               4714 non-null   float64\n",
      " 27  movie_facebook_likes       5043 non-null   int64  \n",
      "dtypes: float64(13), int64(3), object(12)\n",
      "memory usage: 1.1+ MB\n",
      "None\n"
     ]
    }
   ],
   "source": [
    "#Informmación del dataset\n",
    "print(df.info())"
   ]
  },
  {
   "cell_type": "markdown",
   "id": "21453ca0",
   "metadata": {},
   "source": [
    "### Información nulos"
   ]
  },
  {
   "cell_type": "code",
   "execution_count": 10,
   "id": "d93fe79d",
   "metadata": {},
   "outputs": [
    {
     "name": "stdout",
     "output_type": "stream",
     "text": [
      "color                         19\n",
      "director_name                104\n",
      "num_critic_for_reviews        50\n",
      "duration                      15\n",
      "director_facebook_likes      104\n",
      "actor_3_facebook_likes        23\n",
      "actor_2_name                  13\n",
      "actor_1_facebook_likes         7\n",
      "gross                        884\n",
      "genres                         0\n",
      "actor_1_name                   7\n",
      "movie_title                    0\n",
      "num_voted_users                0\n",
      "cast_total_facebook_likes      0\n",
      "actor_3_name                  23\n",
      "facenumber_in_poster          13\n",
      "plot_keywords                153\n",
      "movie_imdb_link                0\n",
      "num_user_for_reviews          21\n",
      "language                      14\n",
      "country                        5\n",
      "content_rating               303\n",
      "budget                       492\n",
      "title_year                   108\n",
      "actor_2_facebook_likes        13\n",
      "imdb_score                     0\n",
      "aspect_ratio                 329\n",
      "movie_facebook_likes           0\n",
      "dtype: int64\n"
     ]
    }
   ],
   "source": [
    "#Numero de celdas nulas por columna\n",
    "print(df.isnull().sum())"
   ]
  },
  {
   "cell_type": "markdown",
   "id": "a409c905",
   "metadata": {},
   "source": [
    "## Eliminación y reemplazo de valores nulos"
   ]
  },
  {
   "cell_type": "code",
   "execution_count": 11,
   "id": "9c1036af",
   "metadata": {},
   "outputs": [
    {
     "name": "stdout",
     "output_type": "stream",
     "text": [
      "{'color': 'Desconocido', 'director_name': 'Desconocido', 'num_critic_for_reviews': 0, 'duration': 0, 'director_facebook_likes': 0, 'actor_3_facebook_likes': 0, 'actor_2_name': 'Desconocido', 'actor_1_facebook_likes': 0, 'gross': 0, 'genres': 'Desconocido', 'actor_1_name': 'Desconocido', 'movie_title': 'Desconocido', 'num_voted_users': 0, 'cast_total_facebook_likes': 0, 'actor_3_name': 'Desconocido', 'facenumber_in_poster': 0, 'plot_keywords': 'Desconocido', 'movie_imdb_link': 'Desconocido', 'num_user_for_reviews': 0, 'language': 'Desconocido', 'country': 'Desconocido', 'content_rating': 'Desconocido', 'budget': 0, 'title_year': 0, 'actor_2_facebook_likes': 0, 'imdb_score': 0, 'aspect_ratio': 0, 'movie_facebook_likes': 0}\n",
      "{'color': 'Desconocido', 'actor_1_facebook_likes': 0, 'actor_2_facebook_likes': 0, 'actor_3_facebook_likes': 0}\n"
     ]
    }
   ],
   "source": [
    "#Reemplazar valores nulos por 0 o 'Desconocido' según el tipo de dato\n",
    "valores_reemplazar = {\n",
    "    col: 0 if pd.api.types.is_numeric_dtype(df[col]) else 'Desconocido'\n",
    "        for col in df.columns\n",
    "}\n",
    "\n",
    "print(valores_reemplazar)\n",
    "\n",
    "#Reemplazar valores nulos por 0 o 'Desconocido' según el tipo de dato las columnas ['color', 'actor_1_facebook_likes', 'actor_2_facebook_likes', 'actor_3_facebook_likes']\n",
    "#Lista de columnas específicas\n",
    "columnas_especificas = df[['color', 'actor_1_facebook_likes', 'actor_2_facebook_likes', 'actor_3_facebook_likes']]\n",
    "\n",
    "#Diccionario de valores a reemplazar para las columnas específicas\n",
    "valores_reemplazar_especificos = {\n",
    "    col: 0 if pd.api.types.is_numeric_dtype(columnas_especificas[col]) else 'Desconocido'\n",
    "        for col in columnas_especificas.columns\n",
    "}\n",
    "\n",
    "print(valores_reemplazar_especificos)"
   ]
  },
  {
   "cell_type": "code",
   "execution_count": 12,
   "id": "848ff841",
   "metadata": {},
   "outputs": [
    {
     "name": "stdout",
     "output_type": "stream",
     "text": [
      "color                        0\n",
      "director_name                0\n",
      "num_critic_for_reviews       0\n",
      "duration                     0\n",
      "director_facebook_likes      0\n",
      "actor_3_facebook_likes       0\n",
      "actor_2_name                 0\n",
      "actor_1_facebook_likes       0\n",
      "gross                        0\n",
      "genres                       0\n",
      "actor_1_name                 0\n",
      "movie_title                  0\n",
      "num_voted_users              0\n",
      "cast_total_facebook_likes    0\n",
      "actor_3_name                 0\n",
      "facenumber_in_poster         0\n",
      "plot_keywords                0\n",
      "movie_imdb_link              0\n",
      "num_user_for_reviews         0\n",
      "language                     0\n",
      "country                      0\n",
      "content_rating               0\n",
      "budget                       0\n",
      "title_year                   0\n",
      "actor_2_facebook_likes       0\n",
      "imdb_score                   0\n",
      "aspect_ratio                 0\n",
      "movie_facebook_likes         0\n",
      "dtype: int64\n"
     ]
    }
   ],
   "source": [
    "#Reemplazar los valores nulos en el DataFrame\n",
    "df_columnas_reemplazadas = df.fillna(valores_reemplazar)\n",
    "\n",
    "print(df_columnas_reemplazadas.isnull().sum())"
   ]
  },
  {
   "cell_type": "code",
   "execution_count": 13,
   "id": "ed787ff0",
   "metadata": {},
   "outputs": [
    {
     "name": "stdout",
     "output_type": "stream",
     "text": [
      "color                          0\n",
      "director_name                104\n",
      "num_critic_for_reviews        50\n",
      "duration                      15\n",
      "director_facebook_likes      104\n",
      "actor_3_facebook_likes         0\n",
      "actor_2_name                  13\n",
      "actor_1_facebook_likes         0\n",
      "gross                        884\n",
      "genres                         0\n",
      "actor_1_name                   7\n",
      "movie_title                    0\n",
      "num_voted_users                0\n",
      "cast_total_facebook_likes      0\n",
      "actor_3_name                  23\n",
      "facenumber_in_poster          13\n",
      "plot_keywords                153\n",
      "movie_imdb_link                0\n",
      "num_user_for_reviews          21\n",
      "language                      14\n",
      "country                        5\n",
      "content_rating               303\n",
      "budget                       492\n",
      "title_year                   108\n",
      "actor_2_facebook_likes         0\n",
      "imdb_score                     0\n",
      "aspect_ratio                 329\n",
      "movie_facebook_likes           0\n",
      "dtype: int64\n"
     ]
    }
   ],
   "source": [
    "#Reemplazar los valores nulos en las columnas específicas\n",
    "df_columnas_reemplazadas_especificas = df.fillna(valores_reemplazar_especificos)\n",
    "print(df_columnas_reemplazadas_especificas.isnull().sum())"
   ]
  },
  {
   "cell_type": "markdown",
   "id": "23674efe",
   "metadata": {},
   "source": [
    "## Información por columnas"
   ]
  },
  {
   "cell_type": "code",
   "execution_count": 14,
   "id": "23aaaba5",
   "metadata": {},
   "outputs": [
    {
     "name": "stdout",
     "output_type": "stream",
     "text": [
      "                                         movie_title  \\\n",
      "0                                            Avatar    \n",
      "1          Pirates of the Caribbean: At World's End    \n",
      "2                                           Spectre    \n",
      "3                             The Dark Knight Rises    \n",
      "4  Star Wars: Episode VII - The Force Awakens    ...   \n",
      "\n",
      "                            genres  \\\n",
      "0  Action|Adventure|Fantasy|Sci-Fi   \n",
      "1         Action|Adventure|Fantasy   \n",
      "2        Action|Adventure|Thriller   \n",
      "3                  Action|Thriller   \n",
      "4                      Documentary   \n",
      "\n",
      "                                       plot_keywords  imdb_score  \n",
      "0             avatar|future|marine|native|paraplegic         7.9  \n",
      "1  goddess|marriage ceremony|marriage proposal|pi...         7.1  \n",
      "2                bomb|espionage|sequel|spy|terrorist         6.8  \n",
      "3  deception|imprisonment|lawlessness|police offi...         8.5  \n",
      "4                                                NaN         7.1  \n",
      "movie_title       object\n",
      "genres            object\n",
      "plot_keywords     object\n",
      "imdb_score       float64\n",
      "dtype: object\n"
     ]
    }
   ],
   "source": [
    "# Columnas específicas a conservar\n",
    "df_especifico = df[['movie_title', 'genres', 'plot_keywords', 'imdb_score']]\n",
    "\n",
    "print(df_especifico.head())\n",
    "\n",
    "# Tipo de dato de cada columna\n",
    "print(df_especifico.dtypes)"
   ]
  },
  {
   "cell_type": "markdown",
   "id": "d112fb6a",
   "metadata": {},
   "source": [
    "#### Colmna genres"
   ]
  },
  {
   "cell_type": "code",
   "execution_count": 15,
   "id": "6c3539b8",
   "metadata": {},
   "outputs": [
    {
     "name": "stdout",
     "output_type": "stream",
     "text": [
      "                            genres\n",
      "0  Action|Adventure|Fantasy|Sci-Fi\n",
      "1         Action|Adventure|Fantasy\n",
      "2        Action|Adventure|Thriller\n",
      "3                  Action|Thriller\n",
      "4                      Documentary\n"
     ]
    }
   ],
   "source": [
    "print(df_especifico[['genres']].head())"
   ]
  },
  {
   "cell_type": "code",
   "execution_count": 16,
   "id": "733c99ce",
   "metadata": {},
   "outputs": [
    {
     "name": "stdout",
     "output_type": "stream",
     "text": [
      "                                 genres\n",
      "0  [Action, Adventure, Fantasy, Sci-Fi]\n",
      "1          [Action, Adventure, Fantasy]\n",
      "2         [Action, Adventure, Thriller]\n",
      "3                    [Action, Thriller]\n",
      "4                         [Documentary]\n"
     ]
    },
    {
     "name": "stderr",
     "output_type": "stream",
     "text": [
      "C:\\Users\\kevin\\AppData\\Local\\Temp\\ipykernel_7616\\2415871834.py:1: SettingWithCopyWarning: \n",
      "A value is trying to be set on a copy of a slice from a DataFrame.\n",
      "Try using .loc[row_indexer,col_indexer] = value instead\n",
      "\n",
      "See the caveats in the documentation: https://pandas.pydata.org/pandas-docs/stable/user_guide/indexing.html#returning-a-view-versus-a-copy\n",
      "  df_especifico['genres'] = df_especifico['genres'].str.split('|')\n"
     ]
    }
   ],
   "source": [
    "df_especifico['genres'] = df_especifico['genres'].str.split('|')\n",
    "print(df_especifico[['genres']].head())"
   ]
  }
 ],
 "metadata": {
  "kernelspec": {
   "display_name": ".venv",
   "language": "python",
   "name": "python3"
  },
  "language_info": {
   "codemirror_mode": {
    "name": "ipython",
    "version": 3
   },
   "file_extension": ".py",
   "mimetype": "text/x-python",
   "name": "python",
   "nbconvert_exporter": "python",
   "pygments_lexer": "ipython3",
   "version": "3.12.0"
  }
 },
 "nbformat": 4,
 "nbformat_minor": 5
}
